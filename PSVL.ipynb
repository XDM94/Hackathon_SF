{
  "cells": [
    {
      "cell_type": "code",
      "execution_count": null,
      "metadata": {
        "colab": {
          "base_uri": "https://localhost:8080/"
        },
        "id": "vG8snJLM-43o",
        "outputId": "a93dce29-8277-48bd-d6ed-84bf7d1bf132"
      },
      "outputs": [
        {
          "name": "stdout",
          "output_type": "stream",
          "text": [
            "Requirement already satisfied: pip in /usr/local/lib/python3.10/dist-packages (23.3.2)\n",
            "Requirement already satisfied: setuptools in /usr/local/lib/python3.10/dist-packages (69.0.2)\n",
            "\u001b[33mWARNING: Running pip as the 'root' user can result in broken permissions and conflicting behaviour with the system package manager. It is recommended to use a virtual environment instead: https://pip.pypa.io/warnings/venv\u001b[0m\u001b[33m\n",
            "\u001b[0mRequirement already satisfied: pydub in /usr/local/lib/python3.10/dist-packages (0.25.1)\n",
            "Traceback (most recent call last):\n",
            "  File \"/usr/local/lib/python3.10/dist-packages/pip/_vendor/pkg_resources/__init__.py\", line 3109, in _dep_map\n",
            "    return self.__dep_map\n",
            "  File \"/usr/local/lib/python3.10/dist-packages/pip/_vendor/pkg_resources/__init__.py\", line 2902, in __getattr__\n",
            "    raise AttributeError(attr)\n",
            "AttributeError: _DistInfoDistribution__dep_map\n",
            "\n",
            "During handling of the above exception, another exception occurred:\n",
            "\n",
            "Traceback (most recent call last):\n",
            "  File \"/usr/local/lib/python3.10/dist-packages/pip/_internal/cli/base_command.py\", line 180, in exc_logging_wrapper\n",
            "    status = run_func(*args)\n",
            "  File \"/usr/local/lib/python3.10/dist-packages/pip/_internal/cli/req_command.py\", line 245, in wrapper\n",
            "    return func(self, options, args)\n",
            "  File \"/usr/local/lib/python3.10/dist-packages/pip/_internal/commands/install.py\", line 444, in run\n",
            "    conflicts = self._determine_conflicts(to_install)\n",
            "  File \"/usr/local/lib/python3.10/dist-packages/pip/_internal/commands/install.py\", line 575, in _determine_conflicts\n",
            "    return check_install_conflicts(to_install)\n",
            "  File \"/usr/local/lib/python3.10/dist-packages/pip/_internal/operations/check.py\", line 106, in check_install_conflicts\n",
            "    package_set, _ = create_package_set_from_installed()\n",
            "  File \"/usr/local/lib/python3.10/dist-packages/pip/_internal/operations/check.py\", line 45, in create_package_set_from_installed\n",
            "    dependencies = list(dist.iter_dependencies())\n",
            "  File \"/usr/local/lib/python3.10/dist-packages/pip/_internal/metadata/pkg_resources.py\", line 221, in iter_dependencies\n",
            "    return self._dist.requires(extras)\n",
            "  File \"/usr/local/lib/python3.10/dist-packages/pip/_vendor/pkg_resources/__init__.py\", line 2822, in requires\n",
            "    dm = self._dep_map\n",
            "  File \"/usr/local/lib/python3.10/dist-packages/pip/_vendor/pkg_resources/__init__.py\", line 3111, in _dep_map\n",
            "    self.__dep_map = self._compute_dependencies()\n",
            "  File \"/usr/local/lib/python3.10/dist-packages/pip/_vendor/pkg_resources/__init__.py\", line 3133, in _compute_dependencies\n",
            "    dm[s_extra] = [r for r in reqs_for_extra(extra) if r not in common]\n",
            "  File \"/usr/local/lib/python3.10/dist-packages/pip/_vendor/pkg_resources/__init__.py\", line 3133, in <listcomp>\n",
            "    dm[s_extra] = [r for r in reqs_for_extra(extra) if r not in common]\n",
            "  File \"/usr/local/lib/python3.10/dist-packages/pip/_vendor/pkg_resources/__init__.py\", line 3125, in reqs_for_extra\n",
            "    if not req.marker or req.marker.evaluate({'extra': extra}):\n",
            "  File \"/usr/local/lib/python3.10/dist-packages/pip/_vendor/packaging/markers.py\", line 304, in evaluate\n",
            "    return _evaluate_markers(self._markers, current_environment)\n",
            "  File \"/usr/local/lib/python3.10/dist-packages/pip/_vendor/packaging/markers.py\", line 229, in _evaluate_markers\n",
            "    groups[-1].append(_evaluate_markers(marker, environment))\n",
            "  File \"/usr/local/lib/python3.10/dist-packages/pip/_vendor/packaging/markers.py\", line 240, in _evaluate_markers\n",
            "    groups[-1].append(_eval_op(lhs_value, op, rhs_value))\n",
            "  File \"/usr/local/lib/python3.10/dist-packages/pip/_vendor/packaging/markers.py\", line 195, in _eval_op\n",
            "    return spec.contains(lhs)\n",
            "  File \"/usr/local/lib/python3.10/dist-packages/pip/_vendor/packaging/specifiers.py\", line 189, in contains\n",
            "    return operator_callable(normalized_item, self.version)\n",
            "  File \"/usr/local/lib/python3.10/dist-packages/pip/_vendor/packaging/specifiers.py\", line 290, in wrapped\n",
            "    @functools.wraps(fn)\n",
            "KeyboardInterrupt\n",
            "\n",
            "During handling of the above exception, another exception occurred:\n",
            "\n",
            "Traceback (most recent call last):\n",
            "  File \"/usr/local/bin/pip\", line 8, in <module>\n",
            "    sys.exit(main())\n",
            "  File \"/usr/local/lib/python3.10/dist-packages/pip/_internal/cli/main.py\", line 79, in main\n",
            "    return command.main(cmd_args)\n",
            "  File \"/usr/local/lib/python3.10/dist-packages/pip/_internal/cli/base_command.py\", line 101, in main\n",
            "    return self._main(args)\n",
            "  File \"/usr/local/lib/python3.10/dist-packages/pip/_internal/cli/base_command.py\", line 234, in _main\n",
            "    return run(options, args)\n",
            "  File \"/usr/local/lib/python3.10/dist-packages/pip/_internal/cli/base_command.py\", line 217, in exc_logging_wrapper\n",
            "    logger.critical(\"Operation cancelled by user\")\n",
            "  File \"/usr/lib/python3.10/logging/__init__.py\", line 1524, in critical\n",
            "    self._log(CRITICAL, msg, args, **kwargs)\n",
            "  File \"/usr/lib/python3.10/logging/__init__.py\", line 1624, in _log\n",
            "    self.handle(record)\n",
            "  File \"/usr/lib/python3.10/logging/__init__.py\", line 1634, in handle\n",
            "    self.callHandlers(record)\n",
            "  File \"/usr/lib/python3.10/logging/__init__.py\", line 1696, in callHandlers\n",
            "    hdlr.handle(record)\n",
            "  File \"/usr/lib/python3.10/logging/__init__.py\", line 968, in handle\n",
            "    self.emit(record)\n",
            "  File \"/usr/local/lib/python3.10/dist-packages/pip/_internal/utils/logging.py\", line 177, in emit\n",
            "    self.console.print(renderable, overflow=\"ignore\", crop=False, style=style)\n",
            "  File \"/usr/local/lib/python3.10/dist-packages/pip/_vendor/rich/console.py\", line 1672, in print\n",
            "    with self:\n",
            "  File \"/usr/local/lib/python3.10/dist-packages/pip/_vendor/rich/console.py\", line 864, in __exit__\n",
            "    self._exit_buffer()\n",
            "  File \"/usr/local/lib/python3.10/dist-packages/pip/_vendor/rich/console.py\", line 822, in _exit_buffer\n",
            "    self._check_buffer()\n",
            "  File \"/usr/local/lib/python3.10/dist-packages/pip/_vendor/rich/console.py\", line 2058, in _check_buffer\n",
            "    text = self._render_buffer(self._buffer[:])\n",
            "  File \"/usr/local/lib/python3.10/dist-packages/pip/_vendor/rich/console.py\", line 2080, in _render_buffer\n",
            "    style.render(\n",
            "  File \"/usr/local/lib/python3.10/dist-packages/pip/_vendor/rich/style.py\", line 712, in render\n",
            "    attrs = self._ansi or self._make_ansi_codes(color_system)\n",
            "  File \"/usr/local/lib/python3.10/dist-packages/pip/_vendor/rich/style.py\", line 368, in _make_ansi_codes\n",
            "    sgr.extend(self._color.downgrade(color_system).get_ansi_codes())\n",
            "  File \"/usr/local/lib/python3.10/dist-packages/pip/_vendor/rich/color.py\", line 484, in get_ansi_codes\n",
            "    @lru_cache(maxsize=1024)\n",
            "KeyboardInterrupt\n",
            "^C\n",
            "Requirement already satisfied: whisper in /usr/local/lib/python3.10/dist-packages (1.1.10)\n",
            "Requirement already satisfied: six in /usr/local/lib/python3.10/dist-packages (from whisper) (1.16.0)\n",
            "\u001b[31mERROR: Operation cancelled by user\u001b[0m\u001b[31m\n",
            "\u001b[0mRequirement already satisfied: pytube in /usr/local/lib/python3.10/dist-packages (15.0.0)\n",
            "\u001b[33mWARNING: Running pip as the 'root' user can result in broken permissions and conflicting behaviour with the system package manager. It is recommended to use a virtual environment instead: https://pip.pypa.io/warnings/venv\u001b[0m\u001b[33m\n",
            "\u001b[0mCollecting git+https://github.com/openai/whisper.git\n",
            "  Cloning https://github.com/openai/whisper.git to /tmp/pip-req-build-2bz9lcw2\n",
            "  Running command git clone --filter=blob:none --quiet https://github.com/openai/whisper.git /tmp/pip-req-build-2bz9lcw2\n",
            "\u001b[31mERROR: Operation cancelled by user\u001b[0m\u001b[31m\n",
            "\u001b[0mTraceback (most recent call last):\n",
            "  File \"/usr/local/lib/python3.10/dist-packages/pip/_internal/cli/base_command.py\", line 180, in exc_logging_wrapper\n",
            "    status = run_func(*args)\n",
            "  File \"/usr/local/lib/python3.10/dist-packages/pip/_internal/cli/req_command.py\", line 245, in wrapper\n",
            "    return func(self, options, args)\n",
            "  File \"/usr/local/lib/python3.10/dist-packages/pip/_internal/commands/install.py\", line 377, in run\n",
            "    requirement_set = resolver.resolve(\n",
            "  File \"/usr/local/lib/python3.10/dist-packages/pip/_internal/resolution/resolvelib/resolver.py\", line 76, in resolve\n",
            "    collected = self.factory.collect_root_requirements(root_reqs)\n",
            "  File \"/usr/local/lib/python3.10/dist-packages/pip/_internal/resolution/resolvelib/factory.py\", line 534, in collect_root_requirements\n",
            "    reqs = list(\n",
            "  File \"/usr/local/lib/python3.10/dist-packages/pip/_internal/resolution/resolvelib/factory.py\", line 490, in _make_requirements_from_install_req\n",
            "    cand = self._make_base_candidate_from_link(\n",
            "  File \"/usr/local/lib/python3.10/dist-packages/pip/_internal/resolution/resolvelib/factory.py\", line 228, in _make_base_candidate_from_link\n",
            "    self._link_candidate_cache[link] = LinkCandidate(\n",
            "  File \"/usr/local/lib/python3.10/dist-packages/pip/_internal/resolution/resolvelib/candidates.py\", line 293, in __init__\n",
            "    super().__init__(\n",
            "  File \"/usr/local/lib/python3.10/dist-packages/pip/_internal/resolution/resolvelib/candidates.py\", line 156, in __init__\n",
            "    self.dist = self._prepare()\n",
            "  File \"/usr/local/lib/python3.10/dist-packages/pip/_internal/resolution/resolvelib/candidates.py\", line 225, in _prepare\n",
            "    dist = self._prepare_distribution()\n",
            "  File \"/usr/local/lib/python3.10/dist-packages/pip/_internal/resolution/resolvelib/candidates.py\", line 304, in _prepare_distribution\n",
            "    return preparer.prepare_linked_requirement(self._ireq, parallel_builds=True)\n",
            "  File \"/usr/local/lib/python3.10/dist-packages/pip/_internal/operations/prepare.py\", line 525, in prepare_linked_requirement\n",
            "    return self._prepare_linked_requirement(req, parallel_builds)\n",
            "  File \"/usr/local/lib/python3.10/dist-packages/pip/_internal/operations/prepare.py\", line 596, in _prepare_linked_requirement\n",
            "    local_file = unpack_url(\n",
            "  File \"/usr/local/lib/python3.10/dist-packages/pip/_internal/operations/prepare.py\", line 157, in unpack_url\n",
            "    unpack_vcs_link(link, location, verbosity=verbosity)\n",
            "  File \"/usr/local/lib/python3.10/dist-packages/pip/_internal/operations/prepare.py\", line 80, in unpack_vcs_link\n",
            "    vcs_backend.unpack(location, url=hide_url(link.url), verbosity=verbosity)\n",
            "  File \"/usr/local/lib/python3.10/dist-packages/pip/_internal/vcs/versioncontrol.py\", line 608, in unpack\n",
            "    self.obtain(location, url=url, verbosity=verbosity)\n",
            "  File \"/usr/local/lib/python3.10/dist-packages/pip/_internal/vcs/versioncontrol.py\", line 521, in obtain\n",
            "    self.fetch_new(dest, url, rev_options, verbosity=verbosity)\n",
            "  File \"/usr/local/lib/python3.10/dist-packages/pip/_internal/vcs/git.py\", line 276, in fetch_new\n",
            "    self.run_command(\n",
            "  File \"/usr/local/lib/python3.10/dist-packages/pip/_internal/vcs/versioncontrol.py\", line 650, in run_command\n",
            "    return call_subprocess(\n",
            "  File \"/usr/local/lib/python3.10/dist-packages/pip/_internal/utils/subprocess.py\", line 166, in call_subprocess\n",
            "    line: str = proc.stdout.readline()\n",
            "KeyboardInterrupt\n",
            "\n",
            "During handling of the above exception, another exception occurred:\n",
            "\n",
            "Traceback (most recent call last):\n",
            "  File \"/usr/local/bin/pip\", line 8, in <module>\n",
            "    sys.exit(main())\n",
            "  File \"/usr/local/lib/python3.10/dist-packages/pip/_internal/cli/main.py\", line 79, in main\n",
            "    return command.main(cmd_args)\n",
            "  File \"/usr/local/lib/python3.10/dist-packages/pip/_internal/cli/base_command.py\", line 101, in main\n",
            "    return self._main(args)\n",
            "  File \"/usr/local/lib/python3.10/dist-packages/pip/_internal/cli/base_command.py\", line 234, in _main\n",
            "    return run(options, args)\n",
            "  File \"/usr/local/lib/python3.10/dist-packages/pip/_internal/cli/base_command.py\", line 218, in exc_logging_wrapper\n",
            "    logger.debug(\"Exception information:\", exc_info=True)\n",
            "  File \"/usr/lib/python3.10/logging/__init__.py\", line 1465, in debug\n",
            "    self._log(DEBUG, msg, args, **kwargs)\n",
            "  File \"/usr/lib/python3.10/logging/__init__.py\", line 1624, in _log\n",
            "    self.handle(record)\n",
            "  File \"/usr/lib/python3.10/logging/__init__.py\", line 1634, in handle\n",
            "    self.callHandlers(record)\n",
            "  File \"/usr/lib/python3.10/logging/__init__.py\", line 1696, in callHandlers\n",
            "    hdlr.handle(record)\n",
            "  File \"/usr/lib/python3.10/logging/__init__.py\", line 968, in handle\n",
            "    self.emit(record)\n",
            "  File \"/usr/lib/python3.10/logging/handlers.py\", line 75, in emit\n",
            "    logging.FileHandler.emit(self, record)\n",
            "  File \"/usr/lib/python3.10/logging/__init__.py\", line 1218, in emit\n",
            "    StreamHandler.emit(self, record)\n",
            "  File \"/usr/lib/python3.10/logging/__init__.py\", line 1100, in emit\n",
            "    msg = self.format(record)\n",
            "  File \"/usr/lib/python3.10/logging/__init__.py\", line 943, in format\n",
            "    return fmt.format(record)\n",
            "  File \"/usr/local/lib/python3.10/dist-packages/pip/_internal/utils/logging.py\", line 112, in format\n",
            "    formatted = super().format(record)\n",
            "  File \"/usr/lib/python3.10/logging/__init__.py\", line 686, in format\n",
            "    record.exc_text = self.formatException(record.exc_info)\n",
            "  File \"/usr/lib/python3.10/logging/__init__.py\", line 636, in formatException\n",
            "    traceback.print_exception(ei[0], ei[1], tb, None, sio)\n",
            "  File \"/usr/lib/python3.10/traceback.py\", line 119, in print_exception\n",
            "    te = TracebackException(type(value), value, tb, limit=limit, compact=True)\n",
            "  File \"/usr/lib/python3.10/traceback.py\", line 502, in __init__\n",
            "    self.stack = StackSummary.extract(\n",
            "  File \"/usr/lib/python3.10/traceback.py\", line 383, in extract\n",
            "    f.line\n",
            "  File \"/usr/lib/python3.10/traceback.py\", line 306, in line\n",
            "    self._line = linecache.getline(self.filename, self.lineno)\n",
            "  File \"/usr/lib/python3.10/linecache.py\", line 30, in getline\n",
            "    lines = getlines(filename, module_globals)\n",
            "  File \"/usr/lib/python3.10/linecache.py\", line 46, in getlines\n",
            "    return updatecache(filename, module_globals)\n",
            "  File \"/usr/lib/python3.10/linecache.py\", line 137, in updatecache\n",
            "    lines = fp.readlines()\n",
            "  File \"/usr/lib/python3.10/codecs.py\", line 319, in decode\n",
            "    def decode(self, input, final=False):\n",
            "KeyboardInterrupt\n",
            "^C\n",
            "Hit:1 https://cloud.r-project.org/bin/linux/ubuntu jammy-cran40/ InRelease\n",
            "Hit:2 https://developer.download.nvidia.com/compute/cuda/repos/ubuntu2204/x86_64  InRelease\n",
            "Get:3 http://security.ubuntu.com/ubuntu jammy-security InRelease [110 kB]\n",
            "Hit:4 http://archive.ubuntu.com/ubuntu jammy InRelease\n",
            "Get:5 http://archive.ubuntu.com/ubuntu jammy-updates InRelease [119 kB]\n",
            "Get:6 https://ppa.launchpadcontent.net/c2d4u.team/c2d4u4.0+/ubuntu jammy InRelease [18.1 kB]\n",
            "0% [5 InRelease 105 kB/119 kB 89%] [Waiting for headers]\u001b[0m^C\n",
            "Requirement already satisfied: pyspellchecker in /usr/local/lib/python3.10/dist-packages (0.7.2)\n"
          ]
        }
      ],
      "source": [
        "!pip install --upgrade pip setuptools\n",
        "!pip install pydub\n",
        "!pip install whisper\n",
        "!pip install pytube\n",
        "!pip install git+https://github.com/openai/whisper.git\n",
        "!sudo apt update && sudo apt install ffmpeg\n",
        "!pip install pyspellchecker\n",
        "!pip install pyTelegramBotAPI"
      ]
    },
    {
      "cell_type": "code",
      "execution_count": 1,
      "metadata": {
        "colab": {
          "base_uri": "https://localhost:8080/"
        },
        "id": "nQL_HdfXZwpF",
        "outputId": "77736714-4e53-4cc9-f871-868027ae3854"
      },
      "outputs": [
        {
          "name": "stderr",
          "output_type": "stream",
          "text": [
            "[nltk_data] Downloading package punkt to /root/nltk_data...\n",
            "[nltk_data]   Package punkt is already up-to-date!\n"
          ]
        }
      ],
      "source": [
        "from pytube import YouTube\n",
        "import requests\n",
        "import io\n",
        "import os\n",
        "import json\n",
        "from nltk.tokenize import sent_tokenize, word_tokenize\n",
        "from spellchecker import SpellChecker\n",
        "import re\n",
        "import nltk\n",
        "nltk.download('punkt')\n",
        "from IPython.display import Audio\n",
        "import telebot"
      ]
    },
    {
      "cell_type": "code",
      "execution_count": 2,
      "metadata": {
        "id": "NDW2HCdwZ3OM"
      },
      "outputs": [],
      "source": [
        "def check_input(user_input):\n",
        "    # Проверяем, является ли введенное значение ссылкой\n",
        "    url_pattern = re.compile(\n",
        "        r'^(http:\\/\\/www\\.|https:\\/\\/www\\.|http:\\/\\/|https:\\/\\/)?[a-z0-9]+([\\-\\.]{1}[a-z0-9]+)*\\.[a-z]{2,5}(:[0-9]{1,5})?(\\/.*)?$',\n",
        "        re.IGNORECASE # Игнорирование регистра\n",
        "    )\n",
        "\n",
        "    # Проверяем, является ли введенное значение путем к аудиофайлу\n",
        "    audio_extensions = ['.mp3', '.wav', '.flac', '.aac']  # список расширений аудиофайлов\n",
        "    is_audio = any(user_input.lower().endswith(ext) for ext in audio_extensions)\n",
        "\n",
        "    if re.match(url_pattern, user_input):\n",
        "        print(\"Введенная информация является ссылкой.\")\n",
        "        audio_data, path_to_file = download_audio_from_link(user_input)\n",
        "        text = audio_to_text(path_to_file)\n",
        "        return text\n",
        "    elif is_audio:\n",
        "        print(\"Введенная информация - это путь к аудиофайлу.\")\n",
        "        text = audio_to_text(user_input)\n",
        "        return text\n",
        "    else:\n",
        "        print(\"Неверный формат ввода. Пожалуйста, введите ссылку или путь к аудиофайлу.\")"
      ]
    },
    {
      "cell_type": "code",
      "execution_count": 3,
      "metadata": {
        "colab": {
          "base_uri": "https://localhost:8080/"
        },
        "id": "UEz_G7XuZ40Z",
        "outputId": "9fe08986-3f4b-4ca9-ee69-f40386facfd5"
      },
      "outputs": [
        {
          "name": "stdout",
          "output_type": "stream",
          "text": [
            "Загружаем аудио максимального качества: Я одинокий человек;)\n",
            "Файл уже существует. Выберите другое имя файла или место для сохранения.\n"
          ]
        }
      ],
      "source": [
        "def download_audio_from_link(link):\n",
        "    try:\n",
        "        video = YouTube(link)\n",
        "\n",
        "        if not video:\n",
        "            print(\"Видео не найдено.\")\n",
        "            return None, None\n",
        "\n",
        "        streams = video.streams.filter(only_audio=True).order_by('abr').desc()\n",
        "\n",
        "        if streams:\n",
        "            # Выбираем аудио-поток с наивысшим битрейтом\n",
        "            highest_quality_audio = streams[0]\n",
        "            print(f\"Загружаем аудио максимального качества: {highest_quality_audio.title}\")\n",
        "\n",
        "            # Очищаем имя файла от недопустимых символов\n",
        "            clean_title = re.sub(r'[\\\\/*?:\"<>|]', '_', video.title)\n",
        "\n",
        "            # Формируем путь к файлу для сохранения аудио\n",
        "            file_path = f\"/content/Untitled Folder/{clean_title}.mp3\"\n",
        "\n",
        "            # Проверяем наличие файла по указанному пути\n",
        "            if os.path.exists(file_path):\n",
        "                print(\"Файл уже существует. Выберите другое имя файла или место для сохранения.\")\n",
        "                return None, None\n",
        "\n",
        "            # Загружаем аудио в файл\n",
        "            highest_quality_audio.download(filename=file_path)\n",
        "\n",
        "            # Считываем содержимое файла в переменную\n",
        "            with open(file_path, 'rb') as file:\n",
        "                audio_content = file.read()\n",
        "\n",
        "            print(\"Аудио максимального качества успешно загружено в переменную!\")\n",
        "            return audio_content, file_path\n",
        "        else:\n",
        "            print(\"Аудио не найдено для данного видео.\")\n",
        "            return None, None\n",
        "    except Exception as e:\n",
        "        print(f\"Произошла ошибка: {str(e)}\")\n",
        "        return None, None\n",
        "\n",
        "# Пример использования\n",
        "video_link = \"https://www.youtube.com/watch?v=IdTCbSQIXD4\"\n",
        "audio_data, path_to_file = download_audio_from_link(video_link)"
      ]
    },
    {
      "cell_type": "code",
      "execution_count": 4,
      "metadata": {
        "id": "5yMGI2VJUwwM"
      },
      "outputs": [],
      "source": [
        "def audio_to_text(path_to_audio):\n",
        "    text = !whisper '{path_to_audio}' --model base --language ru\n",
        "    text = [i for i in text]\n",
        "    text = ' '.join(text)\n",
        "    return text"
      ]
    },
    {
      "cell_type": "code",
      "execution_count": 5,
      "metadata": {
        "id": "eEns26WnEY5t"
      },
      "outputs": [],
      "source": [
        "def text_preprocess(text):\n",
        "  spell = SpellChecker(language='ru')\n",
        "  corrected_text = spell.correction(text)\n",
        "\n",
        "# Извлечение текста из таймкодов\n",
        "  text_only = re.sub(r'\\[\\d{2}:\\d{2}\\.\\d+\\s*-->\\s*\\d{2}:\\d{2}\\.\\d+\\]\\s*', '', corrected_text)\n",
        "\n",
        "# Разделение на предложения\n",
        "  sentences = sent_tokenize(text_only, language='russian')\n",
        "\n",
        "# Токенизация и удаление пунктуации\n",
        "  tokens = []\n",
        "  for sentence in sentences:\n",
        "      words = word_tokenize(sentence.lower(), language='russian')\n",
        "      words = [word for word in words if word.isalnum()]  # Оставляем только буквенно-цифровые токены\n",
        "      tokens.append(words)\n",
        "\n",
        "  return tokens"
      ]
    },
    {
      "cell_type": "code",
      "execution_count": 6,
      "metadata": {
        "id": "PXKDjzs2N0uM"
      },
      "outputs": [],
      "source": [
        "def prompt_generation(text):\n",
        "\n",
        "# Обновление поля \"text\" в сообщении в объекте prompt\n",
        "  prompt = {\n",
        "    \"modelUri\": \"gpt://идентификатор папчки Яндекс Клауд/summarization\",\n",
        "    \"completionOptions\": {\n",
        "      \"stream\": False,\n",
        "      \"temperature\": 0.1,\n",
        "      \"maxTokens\": \"2000\"\n",
        "    },\n",
        "    \"messages\": [\n",
        "      {\n",
        "            \"role\": \"system\",\n",
        "            \"text\": \"Ты должен сократить переданный тебе текст.\"\n",
        "      },\n",
        "      {\n",
        "        \"role\": \"user\",\n",
        "        \"text\": \"Здесь будет обработанный текст.\"\n",
        "      }\n",
        "    ]\n",
        "  }\n",
        "\n",
        "  url = \"https://llm.api.cloud.yandex.net/foundationModels/v1/completion\"\n",
        "  headers = {\n",
        "      \"Content-Type\": \"application/json\",\n",
        "      \"Authorization\": \"Api-Key YandexGPT\"\n",
        "  }\n",
        "\n",
        "  prompt[\"messages\"][1][\"text\"] = text\n",
        "\n",
        "  return prompt\n"
      ]
    },
    {
      "cell_type": "code",
      "execution_count": 7,
      "metadata": {
        "id": "91iRIpjBY9sY"
      },
      "outputs": [],
      "source": [
        "def get_model_res(prompt, text):\n",
        "\n",
        "  url = \"https://llm.api.cloud.yandex.net/foundationModels/v1/completion\"\n",
        "  headers = {\n",
        "      \"Content-Type\": \"application/json\",\n",
        "      \"Authorization\": \"Api-Key YandexGPT\"\n",
        "  }\n",
        "  response = requests.post(url, headers=headers, json=prompt_generation(text))\n",
        "  response_text = response.text\n",
        "  response_dict = json.loads(response_text)\n",
        "\n",
        "# Извлечение текста ответа модели\n",
        "  model_response = response_dict[\"result\"][\"alternatives\"][0][\"message\"][\"text\"]\n",
        "  return model_response"
      ]
    },
    {
      "cell_type": "code",
      "execution_count": 17,
      "metadata": {
        "id": "WRT8nAEraprz"
      },
      "outputs": [],
      "source": [
        "def main(user_input):\n",
        "\n",
        "  text = check_input(user_input)\n",
        "  tokens = text_preprocess(text)\n",
        "  prompt = prompt_generation(tokens)\n",
        "  res = get_model_res(prompt, text)\n",
        "  return res"
      ]
    },
    {
      "cell_type": "code",
      "execution_count": 18,
      "metadata": {
        "id": "efgr1VmNVvmn"
      },
      "outputs": [],
      "source": [
        "TOKEN = 'Токен бота'\n",
        "bot = telebot.TeleBot(TOKEN)"
      ]
    },
    {
      "cell_type": "code",
      "execution_count": 19,
      "metadata": {
        "id": "WiQTzMczVvmn"
      },
      "outputs": [],
      "source": [
        "# Handle '/start'\n",
        "@bot.message_handler(commands=['start'])\n",
        "def start(message):\n",
        "    bot.reply_to(message, \"\"\"\\n\n",
        "Привет! Я PSVL v0.1, Моя задача показывать вам краткое текстовое содержание видео.\\n\n",
        "Вставьте ссылку на видео с YouTube\\n\n",
        "\"\"\")\n",
        "@bot.message_handler(func=lambda message: True)\n",
        "\n",
        "def take_input(message):\n",
        "    user_input = message.text\n",
        "    response = main(user_input)\n",
        "    bot.reply_to(message, response)"
      ]
    },
    {
      "cell_type": "code",
      "execution_count": 20,
      "metadata": {
        "colab": {
          "base_uri": "https://localhost:8080/"
        },
        "id": "yWcSN1ZXVzqv",
        "outputId": "ddb1d5db-5ff8-4c12-c9f9-f96dab40192a"
      },
      "outputs": [
        {
          "name": "stdout",
          "output_type": "stream",
          "text": [
            "Введенная информация является ссылкой.\n",
            "Загружаем аудио максимального качества: НА ЧТО СПОСОБЕН ИСКУССТВЕННЫЙ ИНТЕЛЛЕКТ ОТ OPENAI? @KosmoStory\n",
            "Аудио максимального качества успешно загружено в переменную!\n",
            "Введенная информация является ссылкой.\n",
            "Загружаем аудио максимального качества: Не смейтесь с людей!\n",
            "Файл уже существует. Выберите другое имя файла или место для сохранения.\n",
            "Введенная информация является ссылкой.\n",
            "Загружаем аудио максимального качества: Подробно про Apple Дневник\n",
            "Аудио максимального качества успешно загружено в переменную!\n"
          ]
        }
      ],
      "source": [
        "bot.polling()"
      ]
    },
    {
      "cell_type": "code",
      "execution_count": null,
      "metadata": {
        "id": "5WDxOM_bAEuH"
      },
      "outputs": [],
      "source": []
    }
  ],
  "metadata": {
    "accelerator": "GPU",
    "colab": {
      "gpuType": "T4",
      "provenance": []
    },
    "kernelspec": {
      "display_name": "Python 3",
      "name": "python3"
    },
    "language_info": {
      "name": "python"
    }
  },
  "nbformat": 4,
  "nbformat_minor": 0
}
